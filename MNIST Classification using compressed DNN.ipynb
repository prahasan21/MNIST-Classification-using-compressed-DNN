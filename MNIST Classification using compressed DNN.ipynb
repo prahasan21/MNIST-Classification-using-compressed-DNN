{
 "cells": [
  {
   "cell_type": "markdown",
   "metadata": {
    "colab_type": "text",
    "id": "bdo4A6wdMjiD"
   },
   "source": [
    "\n",
    "#### Network Compression using SVD for MNIST"
   ]
  },
  {
   "cell_type": "code",
   "execution_count": 0,
   "metadata": {
    "colab": {},
    "colab_type": "code",
    "id": "MBrT2MYfLOyP"
   },
   "outputs": [],
   "source": [
    "import random\n",
    "import matplotlib.pyplot as plt\n",
    "import numpy as np\n",
    "import tensorflow as tf"
   ]
  },
  {
   "cell_type": "code",
   "execution_count": 0,
   "metadata": {
    "colab": {
     "base_uri": "https://localhost:8080/",
     "height": 86
    },
    "colab_type": "code",
    "id": "0kPML4kELQDA",
    "outputId": "7759463c-aea7-46f3-eb9a-845321bff92f"
   },
   "outputs": [
    {
     "name": "stdout",
     "output_type": "stream",
     "text": [
      "Extracting MNIST_data/train-images-idx3-ubyte.gz\n",
      "Extracting MNIST_data/train-labels-idx1-ubyte.gz\n",
      "Extracting MNIST_data/t10k-images-idx3-ubyte.gz\n",
      "Extracting MNIST_data/t10k-labels-idx1-ubyte.gz\n"
     ]
    }
   ],
   "source": [
    "#Reading the MNIST image files\n",
    "from tensorflow.examples.tutorials.mnist import input_data\n",
    "mnist = input_data.read_data_sets('MNIST_data/', one_hot = True)"
   ]
  },
  {
   "cell_type": "markdown",
   "metadata": {
    "colab_type": "text",
    "id": "pvotxgG_MAMV"
   },
   "source": [
    "Incorporated the Xavier initialization as it gives above 98% accuracy, as a baseline model to go forward with building a compressed network:<br>\n",
    "-> Input dimentsions = 784 <br>\n",
    "-> 5 hidden layers with 1024 hidden units each <br>\n",
    "-> Xavier Initialization for and weights Random normal initialization for biases<br>\n",
    "-> Adam optimizer and cross entropy loss function with logits.<br>\n",
    "-> ReLu activation function for all the layers.<br>\n",
    "-> Default learning rate of Adam Optimizer = 0.001 <br>\n",
    "-> Output Layer dimensions = 10 (0-9 classes)"
   ]
  },
  {
   "cell_type": "code",
   "execution_count": 0,
   "metadata": {
    "colab": {},
    "colab_type": "code",
    "id": "b_L7eKUyLQFY"
   },
   "outputs": [],
   "source": [
    "#Defining the neural network for baseline\n",
    "#MNIST Classification 0-9 - 10 classes one hot encoded\n",
    "\n",
    "#Hidden layers:\n",
    "n_nodes_hl1 = 1024\n",
    "n_nodes_hl2 = 1024\n",
    "n_nodes_hl3 = 1024\n",
    "n_nodes_hl4 = 1024\n",
    "n_nodes_hl5 = 1024\n",
    "\n",
    "\n",
    "#Classes\n",
    "n_classes = 10\n",
    "batch_size = 150\n",
    "n_epochs = 30\n",
    "\n",
    "x = tf.placeholder('float',[None,784])\n",
    "y = tf.placeholder('float')"
   ]
  },
  {
   "cell_type": "code",
   "execution_count": 0,
   "metadata": {
    "colab": {
     "base_uri": "https://localhost:8080/",
     "height": 553
    },
    "colab_type": "code",
    "id": "20_YAXQZLQIQ",
    "outputId": "2ca74575-558c-4c3f-cf55-ed6af5859a64"
   },
   "outputs": [
    {
     "name": "stdout",
     "output_type": "stream",
     "text": [
      "epoch 0 loss 185.48808801174164\n",
      "epoch 1 loss 43.385691637173295\n",
      "epoch 2 loss 28.73910706723109\n",
      "epoch 3 loss 21.38529244204983\n",
      "epoch 4 loss 18.401518031721935\n",
      "epoch 5 loss 13.538994213799015\n",
      "epoch 6 loss 12.057347120397026\n",
      "epoch 7 loss 10.034107898332877\n",
      "epoch 8 loss 9.726478597061941\n",
      "epoch 9 loss 8.027179803873878\n",
      "epoch 10 loss 8.71093807775469\n",
      "epoch 11 loss 8.18182961284765\n",
      "epoch 12 loss 6.597328985400964\n",
      "epoch 13 loss 7.298225230748358\n",
      "epoch 14 loss 7.506153215043014\n",
      "epoch 15 loss 5.928964845541486\n",
      "epoch 16 loss 6.438356898124766\n",
      "epoch 17 loss 5.234458309336333\n",
      "epoch 18 loss 6.148189006822577\n",
      "epoch 19 loss 4.687322076832061\n",
      "epoch 20 loss 4.5483121237957675\n",
      "epoch 21 loss 4.201057384332671\n",
      "epoch 22 loss 6.912414456704937\n",
      "epoch 23 loss 3.7581618744316074\n",
      "epoch 24 loss 4.428032477248053\n",
      "epoch 25 loss 4.013434745966151\n",
      "epoch 26 loss 4.411360191781569\n",
      "epoch 27 loss 4.3473117967575945\n",
      "epoch 28 loss 8.036905290613504\n",
      "epoch 29 loss 2.773205591518007\n",
      "Accuracy 98.07999730110168 %\n"
     ]
    }
   ],
   "source": [
    "random.seed(50)\n",
    "data = x\n",
    "h1 = {'w':tf.Variable(tf.contrib.layers.xavier_initializer()([784,n_nodes_hl1])),'b':tf.Variable(tf.random_normal([n_nodes_hl1]))}\n",
    "h2 = {'w':tf.Variable(tf.contrib.layers.xavier_initializer()([n_nodes_hl1,n_nodes_hl2])),'b':tf.Variable(tf.random_normal([n_nodes_hl2]))}\n",
    "h3 = {'w':tf.Variable(tf.contrib.layers.xavier_initializer()([n_nodes_hl2,n_nodes_hl3])),'b':tf.Variable(tf.random_normal([n_nodes_hl3]))}\n",
    "h4 = {'w':tf.Variable(tf.contrib.layers.xavier_initializer()([n_nodes_hl3,n_nodes_hl4])),'b':tf.Variable(tf.random_normal([n_nodes_hl4]))}\n",
    "h5 = {'w':tf.Variable(tf.contrib.layers.xavier_initializer()([n_nodes_hl4,n_nodes_hl5])),'b':tf.Variable(tf.random_normal([n_nodes_hl5]))}\n",
    "output_layer = {'w':tf.Variable(tf.contrib.layers.xavier_initializer()([n_nodes_hl5,n_classes])),'b':tf.Variable(tf.random_normal([n_classes]))}\n",
    "keep_prob = tf.placeholder(tf.float32)\n",
    "\n",
    "#(input_data*weights) + biases\n",
    "l1 = tf.add(tf.matmul(data, h1['w']),h1['b'])\n",
    "l1 = tf.nn.relu(l1)\n",
    "l2 = tf.add(tf.matmul(l1, h2['w']),h2['b'])\n",
    "l2 = tf.nn.relu(l2)\n",
    "l3 = tf.add(tf.matmul(l2, h3['w']),h3['b'])\n",
    "l3 = tf.nn.relu(l3)\n",
    "l4 = tf.add(tf.matmul(l3, h4['w']),h4['b'])\n",
    "l4 = tf.nn.relu(l4)\n",
    "l5 = tf.add(tf.matmul(l4, h5['w']),h5['b'])\n",
    "l5 = tf.nn.relu(l5)\n",
    "\n",
    "output = tf.add(tf.matmul(l5, output_layer['w']),output_layer['b'])\n",
    "\n",
    "pred = output\n",
    "cost_func = tf.reduce_mean( tf.nn.softmax_cross_entropy_with_logits(logits=pred, labels=y) )\n",
    "optimizer = tf.train.AdamOptimizer().minimize(cost_func)\n",
    "\n",
    "init = tf.global_variables_initializer()\n",
    "sess = tf.Session()\n",
    "sess.run(init)\n",
    "\n",
    "for epoch in range(n_epochs):\n",
    "  epoch_loss = 0\n",
    "  for _ in range(int(mnist.train.num_examples/batch_size)):\n",
    "    epoch_x,epoch_y = mnist.train.next_batch(batch_size)\n",
    "    _,c = sess.run([optimizer,cost_func], feed_dict = {x:epoch_x, y:epoch_y})\n",
    "    epoch_loss += c\n",
    "  print('epoch',epoch,'loss',epoch_loss)\n",
    "correct = tf.equal(tf.argmax(pred,1),tf.argmax(y,1))\n",
    "accuracy = tf.reduce_mean(tf.cast(correct,'float'))\n",
    "print('Accuracy',sess.run(accuracy, feed_dict={x: mnist.test.images, y: mnist.test.labels})*100, \"%\")\n"
   ]
  },
  {
   "cell_type": "markdown",
   "metadata": {
    "colab_type": "text",
    "id": "A86D0orsMXBe"
   },
   "source": [
    "Ran Singular Value Decomposition on all the five layers,"
   ]
  },
  {
   "cell_type": "code",
   "execution_count": 0,
   "metadata": {
    "colab": {},
    "colab_type": "code",
    "id": "HkLV6ee7LQKi"
   },
   "outputs": [],
   "source": [
    "s1, u1, v1 = tf.svd(h1['w'])\n",
    "\n",
    "s2, u2, v2 = tf.svd(h2['w'])\n",
    "\n",
    "s3, u3, v3 = tf.svd(h3['w'])\n",
    "\n",
    "s4, u4, v4 = tf.svd(h4['w'])\n",
    "\n",
    "s5, u5, v5 = tf.svd(h5['w'])\n",
    "\n",
    "d = tf.placeholder(tf.int32, shape = (), name = \"d\")"
   ]
  },
  {
   "cell_type": "code",
   "execution_count": 0,
   "metadata": {
    "colab": {},
    "colab_type": "code",
    "id": "fOGnbKjhLQNT"
   },
   "outputs": [],
   "source": [
    "\n",
    "\n",
    "l1_svd = tf.matmul(tf.multiply(tf.matmul(x, u1[:,:d]), s1[:d]), tf.transpose(v1)[:d,:]) + h1['b']\n",
    "l1_svd = tf.nn.relu(l1_svd)\n",
    "l2_svd = tf.matmul(tf.multiply(tf.matmul(l1_svd, u2[:,:d]), s2[:d]), tf.transpose(v2)[:d,:]) + h2['b']\n",
    "l2_svd = tf.nn.relu(l2_svd)\n",
    "l3_svd = tf.matmul(tf.multiply(tf.matmul(l2_svd, u3[:,:d]), s3[:d]), tf.transpose(v3)[:d,:]) + h3['b']\n",
    "l3_svd = tf.nn.relu(l3_svd)\n",
    "l4_svd = tf.matmul(tf.multiply(tf.matmul(l3_svd, u4[:,:d]), s4[:d]), tf.transpose(v4)[:d,:]) + h4['b']\n",
    "l4_svd = tf.nn.relu(l4_svd)\n",
    "l5_svd = tf.matmul(tf.multiply(tf.matmul(l4_svd, u5[:,:d]), s5[:d]), tf.transpose(v5)[:d,:]) + h5['b']\n",
    "l5_svd = tf.nn.relu(l5_svd)\n",
    "\n",
    "output_svd = tf.add(tf.matmul(l5_svd, output_layer['w']),output_layer['b'])\n",
    "pred_svd = output_svd\n",
    "\n",
    "cost_func_svd = tf.reduce_mean( tf.nn.softmax_cross_entropy_with_logits(logits=pred_svd, labels=y) )\n",
    "optimizer_svd = tf.train.AdamOptimizer().minimize(cost_func_svd)\n",
    "\n",
    "correct_svd = tf.equal(tf.argmax(pred_svd, 1), tf.argmax(y, 1))\n",
    "accuracy_svd = tf.reduce_mean(tf.cast(correct_svd, 'float'))"
   ]
  },
  {
   "cell_type": "markdown",
   "metadata": {
    "colab_type": "text",
    "id": "kGmueZleNIR8"
   },
   "source": [
    "1.5) As can be seen in the graph the best performance is for $D{full}$, and the worst performance is for D = 10."
   ]
  },
  {
   "cell_type": "code",
   "execution_count": 0,
   "metadata": {
    "colab": {
     "base_uri": "https://localhost:8080/",
     "height": 297
    },
    "colab_type": "code",
    "id": "vh_b3g7HLQPn",
    "outputId": "41cf45f5-00e3-4d7f-a9de-e9aa602c70e7"
   },
   "outputs": [
    {
     "data": {
      "text/plain": [
       "Text(0, 0.5, 'Test Accuracy')"
      ]
     },
     "execution_count": 11,
     "metadata": {
      "tags": []
     },
     "output_type": "execute_result"
    },
    {
     "data": {
      "image/png": "[encoded data removed]",
      "text/plain": [
       "<Figure size 432x288 with 1 Axes>"
      ]
     },
     "metadata": {
      "tags": []
     },
     "output_type": "display_data"
    }
   ],
   "source": [
    "# D_full being 1024\n",
    "D_vals = [10, 20, 50, 100, 200, 1024]\n",
    "accu = []\n",
    "\n",
    "for i in range(len(D_vals)):\n",
    "  accu.append(sess.run(accuracy_svd, feed_dict = {d: D_vals[i], x:mnist.test.images, y:mnist.test.labels})) \n",
    "plt.plot(D_vals, accu, 'rx-')\n",
    "plt.xlabel(\"D\")\n",
    "plt.ylabel(\"Test Accuracy\")"
   ]
  },
  {
   "cell_type": "markdown",
   "metadata": {
    "colab_type": "text",
    "id": "iCJor5SBLt8b"
   },
   "source": [
    "#### 1.6) Fixing the value of D = 20\n",
    "\n",
    "Following the first approach, as stated in 1.6(a), "
   ]
  },
  {
   "cell_type": "code",
   "execution_count": 0,
   "metadata": {
    "colab": {},
    "colab_type": "code",
    "id": "daIvix_ELQSW"
   },
   "outputs": [],
   "source": [
    "\n",
    "S1, U1, V1, b1 = sess.run([s1, u1, v1, h1['b']])\n",
    "S2, U2, V2, b2 = sess.run([s2, u2, v2, h2['b']])\n",
    "S3, U3, V3, b3 = sess.run([s3, u3, v3, h3['b']])\n",
    "S4, U4, V4, b4 = sess.run([s4, u4, v4, h4['b']])\n",
    "S5, U5, V5, b5 = sess.run([s5, u5, v5, h5['b']])\n",
    "opW, opB = output_layer['w'],output_layer['b']\n"
   ]
  },
  {
   "cell_type": "markdown",
   "metadata": {
    "colab_type": "text",
    "id": "v5RWuDhQLaED"
   },
   "source": [
    "As the network initially, was slow in training, I have casted the S,U,V under tf.Variable() and then re-structured it."
   ]
  },
  {
   "cell_type": "code",
   "execution_count": 0,
   "metadata": {
    "colab": {
     "base_uri": "https://localhost:8080/",
     "height": 89
    },
    "colab_type": "code",
    "id": "rbWTGtBLLQU9",
    "outputId": "063acb59-4224-4e68-a8e7-f00198dbec21"
   },
   "outputs": [
    {
     "name": "stdout",
     "output_type": "stream",
     "text": [
      "WARNING:tensorflow:From /usr/local/lib/python3.6/dist-packages/tensorflow_core/python/ops/variables.py:2825: Variable.initialized_value (from tensorflow.python.ops.variables) is deprecated and will be removed in a future version.\n",
      "Instructions for updating:\n",
      "Use Variable.read_value. Variables in 2.X are initialized automatically both in eager and graph (inside tf.defun) contexts.\n"
     ]
    }
   ],
   "source": [
    "d = 20\n",
    "\n",
    "V1 = tf.Variable((S1[:d]*V1[:, :d]).T)\n",
    "U1 = tf.Variable(U1[:,:d])\n",
    "b1 = tf.Variable(b1)\n",
    "\n",
    "V2 = tf.Variable((S2[:d]*V2[:, :d]).T)\n",
    "U2 = tf.Variable(U2[:,:d])\n",
    "b2 = tf.Variable(b2)\n",
    "\n",
    "V3 = tf.Variable((S3[:d]*V3[:, :d]).T)\n",
    "U3 = tf.Variable(U3[:,:d])\n",
    "b3 = tf.Variable(b3)\n",
    "\n",
    "V4 = tf.Variable((S4[:d]*V4[:, :d]).T)\n",
    "U4 = tf.Variable(U4[:,:d])\n",
    "b4 = tf.Variable(b4)\n",
    "\n",
    "V5 = tf.Variable((S5[:d]*V5[:, :d]).T)\n",
    "U5 = tf.Variable(U5[:,:d])\n",
    "b5 = tf.Variable(b5)\n",
    "\n",
    "opW = tf.Variable(opW)\n",
    "opB = tf.Variable(opB)\n"
   ]
  },
  {
   "cell_type": "code",
   "execution_count": 0,
   "metadata": {
    "colab": {},
    "colab_type": "code",
    "id": "mTo8_iCQLQXx"
   },
   "outputs": [],
   "source": [
    "to_be_init_vars = [V1, U1, V2, U2, V3, U3, V4, U4, V5, U5, b1, b2, b3, b4, b5, opW, opB]\n",
    "\n",
    "init_1 = tf.variables_initializer(to_be_init_vars)\n",
    "sess.run(init_1)"
   ]
  },
  {
   "cell_type": "code",
   "execution_count": 0,
   "metadata": {
    "colab": {},
    "colab_type": "code",
    "id": "dusaMdjmLQaQ"
   },
   "outputs": [],
   "source": [
    "\n",
    "l1_svd_20 = tf.add(tf.matmul(x,(tf.matmul(U1,V1))), b1)\n",
    "l1_svd_20 = tf.nn.relu(l1_svd_20)\n",
    "\n",
    "l2_svd_20 = tf.add(tf.matmul(l1_svd_20,(tf.matmul(U2,V2))), b2)\n",
    "l2_svd_20 = tf.nn.relu(l2_svd_20)\n",
    "\n",
    "l3_svd_20 = tf.add(tf.matmul(l2_svd_20,(tf.matmul(U3,V3))), b3)\n",
    "l3_svd_20 = tf.nn.relu(l3_svd_20)\n",
    "\n",
    "l4_svd_20 = tf.add(tf.matmul(l3_svd_20,(tf.matmul(U4,V4))), b4)\n",
    "l4_svd_20 = tf.nn.relu(l4_svd_20)\n",
    "\n",
    "l5_svd_20 = tf.add(tf.matmul(l4_svd_20,(tf.matmul(U5,V5))), b5)\n",
    "l5_svd_20 = tf.nn.relu(l5_svd_20)\n",
    "\n",
    "l_op_20 = tf.matmul(l5_svd_20, opW)+ opB\n",
    "\n"
   ]
  },
  {
   "cell_type": "code",
   "execution_count": 0,
   "metadata": {
    "colab": {},
    "colab_type": "code",
    "id": "U0egW7itLQc7"
   },
   "outputs": [],
   "source": [
    "#Setting a low learning rate of 0.00001\n",
    "\n",
    "init_vars = set(tf.global_variables())\n",
    "cost = tf.reduce_mean(tf.nn.softmax_cross_entropy_with_logits_v2(logits = l_op_20, labels = y))\n",
    "optimizer = tf.train.AdamOptimizer(0.00001).minimize(cost)\n",
    "sess.run(tf.variables_initializer(set(tf.global_variables()) - init_vars))\n",
    "\n",
    "correct = tf.equal(tf.argmax(l_op_20, 1), tf.argmax(y, 1))\n",
    "accuracy = tf.reduce_mean(tf.cast(correct, tf.float32))"
   ]
  },
  {
   "cell_type": "code",
   "execution_count": 0,
   "metadata": {
    "colab": {
     "base_uri": "https://localhost:8080/",
     "height": 536
    },
    "colab_type": "code",
    "id": "1XNU4UBrLQfW",
    "outputId": "1fd6ff96-ee4d-4009-a270-497c56a51016"
   },
   "outputs": [
    {
     "name": "stdout",
     "output_type": "stream",
     "text": [
      "epoch 0 epoch loss 89.44561988860369\n",
      "epoch 1 epoch loss 52.2577834315598\n",
      "epoch 2 epoch loss 44.71851280145347\n",
      "epoch 3 epoch loss 38.5176507383585\n",
      "epoch 4 epoch loss 35.71346833743155\n",
      "epoch 5 epoch loss 32.921982002444565\n",
      "epoch 6 epoch loss 30.683997925836593\n",
      "epoch 7 epoch loss 28.378394033759832\n",
      "epoch 8 epoch loss 27.095213156193495\n",
      "epoch 9 epoch loss 25.532018517144024\n",
      "epoch 10 epoch loss 24.60654608020559\n",
      "epoch 11 epoch loss 23.021764043718576\n",
      "epoch 12 epoch loss 22.58966112881899\n",
      "epoch 13 epoch loss 21.595755398273468\n",
      "epoch 14 epoch loss 20.493986262008548\n",
      "epoch 15 epoch loss 20.02113056834787\n",
      "epoch 16 epoch loss 19.33806428220123\n",
      "epoch 17 epoch loss 18.682646145112813\n",
      "epoch 18 epoch loss 17.852592464303598\n",
      "epoch 19 epoch loss 17.438902121735737\n",
      "epoch 20 epoch loss 16.517872279859148\n",
      "epoch 21 epoch loss 16.701299568405375\n",
      "epoch 22 epoch loss 15.540785312652588\n",
      "epoch 23 epoch loss 15.481235947925597\n",
      "epoch 24 epoch loss 14.717421644134447\n",
      "epoch 25 epoch loss 14.742009248351678\n",
      "epoch 26 epoch loss 13.78997271717526\n",
      "epoch 27 epoch loss 13.768156934878789\n",
      "epoch 28 epoch loss 13.625718301627785\n",
      "epoch 29 epoch loss 12.821626653894782\n"
     ]
    }
   ],
   "source": [
    "\n",
    "for epoch in range(n_epochs):\n",
    "    epoch_loss = 0\n",
    "    for _ in range(int(mnist.train.num_examples/batch_size)):\n",
    "        epoch_x, epoch_y = mnist.train.next_batch(batch_size)\n",
    "        _, c = sess.run([optimizer, cost], feed_dict={x: epoch_x, y: epoch_y})\n",
    "        epoch_loss += c\n",
    "    print(\"epoch\",epoch, \"epoch loss\", epoch_loss)\n"
   ]
  },
  {
   "cell_type": "code",
   "execution_count": 0,
   "metadata": {
    "colab": {
     "base_uri": "https://localhost:8080/",
     "height": 34
    },
    "colab_type": "code",
    "id": "RUdFH-boLQh1",
    "outputId": "54d5aa43-6e30-479f-db39-5c0e65ddfb5d"
   },
   "outputs": [
    {
     "name": "stdout",
     "output_type": "stream",
     "text": [
      "Test Accuracy for D = 20 is  97.79000282287598\n"
     ]
    }
   ],
   "source": [
    "\n",
    "\n",
    "acc = sess.run(accuracy, feed_dict={x: mnist.test.images, y: mnist.test.labels})\n",
    "print('Test Accuracy for D = 20 is ', acc*100)\n"
   ]
  },
  {
   "cell_type": "markdown",
   "metadata": {
    "colab_type": "text",
    "id": "Zx3vnzFNNUhL"
   },
   "source": [
    "The compressed neural network gives an accuracy which is 97.7%accuracycompared to the fully connected baseline network (98% accuracy). But the compressed network uses only 4% of the memory that of fully connected network, which is appreciable."
   ]
  },
  {
   "cell_type": "code",
   "execution_count": 0,
   "metadata": {
    "colab": {},
    "colab_type": "code",
    "id": "QeZQHgD4LROG"
   },
   "outputs": [],
   "source": []
  }
 ],
 "metadata": {
  "accelerator": "GPU",
  "colab": {
   "collapsed_sections": [],
   "name": "Deep_Learning_HW3_MNIST_SDN_Prahasan_Gadugu.ipynb",
   "provenance": []
  },
  "kernelspec": {
   "display_name": "Python 3",
   "language": "python",
   "name": "python3"
  },
  "language_info": {
   "codemirror_mode": {
    "name": "ipython",
    "version": 3
   },
   "file_extension": ".py",
   "mimetype": "text/x-python",
   "name": "python",
   "nbconvert_exporter": "python",
   "pygments_lexer": "ipython3",
   "version": "3.7.1"
  }
 },
 "nbformat": 4,
 "nbformat_minor": 1
}
